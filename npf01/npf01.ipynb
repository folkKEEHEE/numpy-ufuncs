{
 "cells": [
  {
   "cell_type": "markdown",
   "id": "32784346",
   "metadata": {},
   "source": [
    "## Numpy ufunc"
   ]
  },
  {
   "cell_type": "code",
   "execution_count": null,
   "id": "9ecd915f",
   "metadata": {
    "vscode": {
     "languageId": "plaintext"
    }
   },
   "outputs": [],
   "source": []
  }
 ],
 "metadata": {
  "language_info": {
   "name": "python"
  }
 },
 "nbformat": 4,
 "nbformat_minor": 5
}
